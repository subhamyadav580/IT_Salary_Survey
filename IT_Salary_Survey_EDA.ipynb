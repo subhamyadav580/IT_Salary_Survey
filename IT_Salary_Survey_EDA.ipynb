{
 "cells": [
  {
   "cell_type": "code",
   "execution_count": 23,
   "metadata": {},
   "outputs": [],
   "source": [
    "import pandas as pd\n",
    "import matplotlib.pyplot as plt\n",
    "import numpy as np\n",
    "import re\n",
    "import warnings\n",
    "from sklearn_pandas import DataFrameMapper\n",
    "from sklearn.preprocessing import StandardScaler\n",
    "from pandas.api.types import is_string_dtype, is_numeric_dtype, is_categorical_dtype"
   ]
  },
  {
   "cell_type": "code",
   "execution_count": 24,
   "metadata": {},
   "outputs": [],
   "source": [
    "salaryData = pd.read_csv('IT Salary Survey EU  2020.csv', parse_dates=['Timestamp'])"
   ]
  },
  {
   "cell_type": "code",
   "execution_count": 25,
   "metadata": {},
   "outputs": [
    {
     "data": {
      "text/html": "<div>\n<style scoped>\n    .dataframe tbody tr th:only-of-type {\n        vertical-align: middle;\n    }\n\n    .dataframe tbody tr th {\n        vertical-align: top;\n    }\n\n    .dataframe thead th {\n        text-align: right;\n    }\n</style>\n<table border=\"1\" class=\"dataframe\">\n  <thead>\n    <tr style=\"text-align: right;\">\n      <th></th>\n      <th>Timestamp</th>\n      <th>Age</th>\n      <th>Gender</th>\n      <th>City</th>\n      <th>Position</th>\n      <th>Total years of experience</th>\n      <th>Years of experience in Germany</th>\n      <th>Seniority level</th>\n      <th>Your main technology / programming language</th>\n      <th>Other technologies/programming languages you use often</th>\n      <th>...</th>\n      <th>Annual bonus+stocks one year ago. Only answer if staying in same country</th>\n      <th>Number of vacation days</th>\n      <th>Employment status</th>\n      <th>Сontract duration</th>\n      <th>Main language at work</th>\n      <th>Company size</th>\n      <th>Company type</th>\n      <th>Have you lost your job due to the coronavirus outbreak?</th>\n      <th>Have you been forced to have a shorter working week (Kurzarbeit)? If yes, how many hours per week</th>\n      <th>Have you received additional monetary support from your employer due to Work From Home? If yes, how much in 2020 in EUR</th>\n    </tr>\n  </thead>\n  <tbody>\n    <tr>\n      <th>0</th>\n      <td>2020-11-24 11:14:15</td>\n      <td>26.0</td>\n      <td>Male</td>\n      <td>Munich</td>\n      <td>Software Engineer</td>\n      <td>5</td>\n      <td>3</td>\n      <td>Senior</td>\n      <td>TypeScript</td>\n      <td>Kotlin, Javascript / Typescript</td>\n      <td>...</td>\n      <td>10000</td>\n      <td>30</td>\n      <td>Full-time employee</td>\n      <td>Unlimited contract</td>\n      <td>English</td>\n      <td>51-100</td>\n      <td>Product</td>\n      <td>No</td>\n      <td>NaN</td>\n      <td>NaN</td>\n    </tr>\n    <tr>\n      <th>1</th>\n      <td>2020-11-24 11:14:16</td>\n      <td>26.0</td>\n      <td>Male</td>\n      <td>Berlin</td>\n      <td>Backend Developer</td>\n      <td>7</td>\n      <td>4</td>\n      <td>Senior</td>\n      <td>Ruby</td>\n      <td>NaN</td>\n      <td>...</td>\n      <td>5000</td>\n      <td>28</td>\n      <td>Full-time employee</td>\n      <td>Unlimited contract</td>\n      <td>English</td>\n      <td>101-1000</td>\n      <td>Product</td>\n      <td>No</td>\n      <td>NaN</td>\n      <td>NaN</td>\n    </tr>\n    <tr>\n      <th>2</th>\n      <td>2020-11-24 11:14:21</td>\n      <td>29.0</td>\n      <td>Male</td>\n      <td>Berlin</td>\n      <td>Software Engineer</td>\n      <td>12</td>\n      <td>6</td>\n      <td>Lead</td>\n      <td>Javascript / Typescript</td>\n      <td>Javascript / Typescript, Docker</td>\n      <td>...</td>\n      <td>100000</td>\n      <td>30</td>\n      <td>Self-employed (freelancer)</td>\n      <td>Temporary contract</td>\n      <td>English</td>\n      <td>101-1000</td>\n      <td>Product</td>\n      <td>Yes</td>\n      <td>NaN</td>\n      <td>NaN</td>\n    </tr>\n    <tr>\n      <th>3</th>\n      <td>2020-11-24 11:15:24</td>\n      <td>28.0</td>\n      <td>Male</td>\n      <td>Berlin</td>\n      <td>Frontend Developer</td>\n      <td>4</td>\n      <td>1</td>\n      <td>Junior</td>\n      <td>Javascript</td>\n      <td>NaN</td>\n      <td>...</td>\n      <td>NaN</td>\n      <td>24</td>\n      <td>Full-time employee</td>\n      <td>Unlimited contract</td>\n      <td>English</td>\n      <td>51-100</td>\n      <td>Startup</td>\n      <td>No</td>\n      <td>NaN</td>\n      <td>NaN</td>\n    </tr>\n    <tr>\n      <th>4</th>\n      <td>2020-11-24 11:15:46</td>\n      <td>37.0</td>\n      <td>Male</td>\n      <td>Berlin</td>\n      <td>Backend Developer</td>\n      <td>17</td>\n      <td>6</td>\n      <td>Senior</td>\n      <td>C# .NET</td>\n      <td>.NET, SQL, AWS, Docker</td>\n      <td>...</td>\n      <td>NaN</td>\n      <td>29</td>\n      <td>Full-time employee</td>\n      <td>Unlimited contract</td>\n      <td>English</td>\n      <td>101-1000</td>\n      <td>Product</td>\n      <td>No</td>\n      <td>NaN</td>\n      <td>NaN</td>\n    </tr>\n  </tbody>\n</table>\n<p>5 rows × 23 columns</p>\n</div>",
      "text/plain": "            Timestamp   Age Gender    City           Position   \\\n0 2020-11-24 11:14:15  26.0   Male  Munich   Software Engineer   \n1 2020-11-24 11:14:16  26.0   Male  Berlin   Backend Developer   \n2 2020-11-24 11:14:21  29.0   Male  Berlin   Software Engineer   \n3 2020-11-24 11:15:24  28.0   Male  Berlin  Frontend Developer   \n4 2020-11-24 11:15:46  37.0   Male  Berlin   Backend Developer   \n\n  Total years of experience Years of experience in Germany Seniority level  \\\n0                         5                              3          Senior   \n1                         7                              4          Senior   \n2                        12                              6            Lead   \n3                         4                              1          Junior   \n4                        17                              6          Senior   \n\n  Your main technology / programming language  \\\n0                                  TypeScript   \n1                                        Ruby   \n2                     Javascript / Typescript   \n3                                  Javascript   \n4                                     C# .NET   \n\n  Other technologies/programming languages you use often  ...  \\\n0                    Kotlin, Javascript / Typescript      ...   \n1                                                NaN      ...   \n2                    Javascript / Typescript, Docker      ...   \n3                                                NaN      ...   \n4                             .NET, SQL, AWS, Docker      ...   \n\n   Annual bonus+stocks one year ago. Only answer if staying in same country  \\\n0                                              10000                          \n1                                               5000                          \n2                                             100000                          \n3                                                NaN                          \n4                                                NaN                          \n\n  Number of vacation days           Employment status   Сontract duration  \\\n0                      30          Full-time employee  Unlimited contract   \n1                      28          Full-time employee  Unlimited contract   \n2                      30  Self-employed (freelancer)  Temporary contract   \n3                      24          Full-time employee  Unlimited contract   \n4                      29          Full-time employee  Unlimited contract   \n\n  Main language at work Company size Company type  \\\n0               English       51-100      Product   \n1               English     101-1000      Product   \n2               English     101-1000      Product   \n3               English       51-100      Startup   \n4               English     101-1000      Product   \n\n  Have you lost your job due to the coronavirus outbreak?  \\\n0                                                 No        \n1                                                 No        \n2                                                Yes        \n3                                                 No        \n4                                                 No        \n\n  Have you been forced to have a shorter working week (Kurzarbeit)? If yes, how many hours per week  \\\n0                                                NaN                                                  \n1                                                NaN                                                  \n2                                                NaN                                                  \n3                                                NaN                                                  \n4                                                NaN                                                  \n\n  Have you received additional monetary support from your employer due to Work From Home? If yes, how much in 2020 in EUR  \n0                                                NaN                                                                       \n1                                                NaN                                                                       \n2                                                NaN                                                                       \n3                                                NaN                                                                       \n4                                                NaN                                                                       \n\n[5 rows x 23 columns]"
     },
     "execution_count": 25,
     "metadata": {},
     "output_type": "execute_result"
    }
   ],
   "source": [
    "salaryData.head()"
   ]
  },
  {
   "cell_type": "code",
   "execution_count": 26,
   "metadata": {},
   "outputs": [
    {
     "data": {
      "text/html": "<div>\n<style scoped>\n    .dataframe tbody tr th:only-of-type {\n        vertical-align: middle;\n    }\n\n    .dataframe tbody tr th {\n        vertical-align: top;\n    }\n\n    .dataframe thead th {\n        text-align: right;\n    }\n</style>\n<table border=\"1\" class=\"dataframe\">\n  <thead>\n    <tr style=\"text-align: right;\">\n      <th></th>\n      <th>0</th>\n      <th>1</th>\n      <th>2</th>\n      <th>3</th>\n      <th>4</th>\n    </tr>\n  </thead>\n  <tbody>\n    <tr>\n      <th>Timestamp</th>\n      <td>2020-11-24 11:14:15</td>\n      <td>2020-11-24 11:14:16</td>\n      <td>2020-11-24 11:14:21</td>\n      <td>2020-11-24 11:15:24</td>\n      <td>2020-11-24 11:15:46</td>\n    </tr>\n    <tr>\n      <th>Age</th>\n      <td>26.0</td>\n      <td>26.0</td>\n      <td>29.0</td>\n      <td>28.0</td>\n      <td>37.0</td>\n    </tr>\n    <tr>\n      <th>Gender</th>\n      <td>Male</td>\n      <td>Male</td>\n      <td>Male</td>\n      <td>Male</td>\n      <td>Male</td>\n    </tr>\n    <tr>\n      <th>City</th>\n      <td>Munich</td>\n      <td>Berlin</td>\n      <td>Berlin</td>\n      <td>Berlin</td>\n      <td>Berlin</td>\n    </tr>\n    <tr>\n      <th>Position</th>\n      <td>Software Engineer</td>\n      <td>Backend Developer</td>\n      <td>Software Engineer</td>\n      <td>Frontend Developer</td>\n      <td>Backend Developer</td>\n    </tr>\n    <tr>\n      <th>Total years of experience</th>\n      <td>5</td>\n      <td>7</td>\n      <td>12</td>\n      <td>4</td>\n      <td>17</td>\n    </tr>\n    <tr>\n      <th>Years of experience in Germany</th>\n      <td>3</td>\n      <td>4</td>\n      <td>6</td>\n      <td>1</td>\n      <td>6</td>\n    </tr>\n    <tr>\n      <th>Seniority level</th>\n      <td>Senior</td>\n      <td>Senior</td>\n      <td>Lead</td>\n      <td>Junior</td>\n      <td>Senior</td>\n    </tr>\n    <tr>\n      <th>Your main technology / programming language</th>\n      <td>TypeScript</td>\n      <td>Ruby</td>\n      <td>Javascript / Typescript</td>\n      <td>Javascript</td>\n      <td>C# .NET</td>\n    </tr>\n    <tr>\n      <th>Other technologies/programming languages you use often</th>\n      <td>Kotlin, Javascript / Typescript</td>\n      <td>NaN</td>\n      <td>Javascript / Typescript, Docker</td>\n      <td>NaN</td>\n      <td>.NET, SQL, AWS, Docker</td>\n    </tr>\n    <tr>\n      <th>Yearly brutto salary (without bonus and stocks) in EUR</th>\n      <td>80000.0</td>\n      <td>80000.0</td>\n      <td>120000.0</td>\n      <td>54000.0</td>\n      <td>62000.0</td>\n    </tr>\n    <tr>\n      <th>Yearly bonus + stocks in EUR</th>\n      <td>5000</td>\n      <td>NaN</td>\n      <td>120000</td>\n      <td>NaN</td>\n      <td>NaN</td>\n    </tr>\n    <tr>\n      <th>Annual brutto salary (without bonus and stocks) one year ago. Only answer if staying in the same country</th>\n      <td>75000.0</td>\n      <td>82000.0</td>\n      <td>100000.0</td>\n      <td>NaN</td>\n      <td>62000.0</td>\n    </tr>\n    <tr>\n      <th>Annual bonus+stocks one year ago. Only answer if staying in same country</th>\n      <td>10000</td>\n      <td>5000</td>\n      <td>100000</td>\n      <td>NaN</td>\n      <td>NaN</td>\n    </tr>\n    <tr>\n      <th>Number of vacation days</th>\n      <td>30</td>\n      <td>28</td>\n      <td>30</td>\n      <td>24</td>\n      <td>29</td>\n    </tr>\n    <tr>\n      <th>Employment status</th>\n      <td>Full-time employee</td>\n      <td>Full-time employee</td>\n      <td>Self-employed (freelancer)</td>\n      <td>Full-time employee</td>\n      <td>Full-time employee</td>\n    </tr>\n    <tr>\n      <th>Сontract duration</th>\n      <td>Unlimited contract</td>\n      <td>Unlimited contract</td>\n      <td>Temporary contract</td>\n      <td>Unlimited contract</td>\n      <td>Unlimited contract</td>\n    </tr>\n    <tr>\n      <th>Main language at work</th>\n      <td>English</td>\n      <td>English</td>\n      <td>English</td>\n      <td>English</td>\n      <td>English</td>\n    </tr>\n    <tr>\n      <th>Company size</th>\n      <td>51-100</td>\n      <td>101-1000</td>\n      <td>101-1000</td>\n      <td>51-100</td>\n      <td>101-1000</td>\n    </tr>\n    <tr>\n      <th>Company type</th>\n      <td>Product</td>\n      <td>Product</td>\n      <td>Product</td>\n      <td>Startup</td>\n      <td>Product</td>\n    </tr>\n    <tr>\n      <th>Have you lost your job due to the coronavirus outbreak?</th>\n      <td>No</td>\n      <td>No</td>\n      <td>Yes</td>\n      <td>No</td>\n      <td>No</td>\n    </tr>\n    <tr>\n      <th>Have you been forced to have a shorter working week (Kurzarbeit)? If yes, how many hours per week</th>\n      <td>NaN</td>\n      <td>NaN</td>\n      <td>NaN</td>\n      <td>NaN</td>\n      <td>NaN</td>\n    </tr>\n    <tr>\n      <th>Have you received additional monetary support from your employer due to Work From Home? If yes, how much in 2020 in EUR</th>\n      <td>NaN</td>\n      <td>NaN</td>\n      <td>NaN</td>\n      <td>NaN</td>\n      <td>NaN</td>\n    </tr>\n  </tbody>\n</table>\n</div>",
      "text/plain": "                                                                                  0  \\\nTimestamp                                                       2020-11-24 11:14:15   \nAge                                                                            26.0   \nGender                                                                         Male   \nCity                                                                         Munich   \nPosition                                                          Software Engineer   \nTotal years of experience                                                         5   \nYears of experience in Germany                                                    3   \nSeniority level                                                              Senior   \nYour main technology / programming language                              TypeScript   \nOther technologies/programming languages you us...  Kotlin, Javascript / Typescript   \nYearly brutto salary (without bonus and stocks)...                          80000.0   \nYearly bonus + stocks in EUR                                                   5000   \nAnnual brutto salary (without bonus and stocks)...                          75000.0   \nAnnual bonus+stocks one year ago. Only answer i...                            10000   \nNumber of vacation days                                                          30   \nEmployment status                                                Full-time employee   \nСontract duration                                                Unlimited contract   \nMain language at work                                                       English   \nCompany size                                                                 51-100   \nCompany type                                                                Product   \nHave you lost your job due to the coronavirus o...                               No   \nHave you been forced to have a shorter working ...                              NaN   \nHave you received additional monetary support f...                              NaN   \n\n                                                                      1  \\\nTimestamp                                           2020-11-24 11:14:16   \nAge                                                                26.0   \nGender                                                             Male   \nCity                                                             Berlin   \nPosition                                              Backend Developer   \nTotal years of experience                                             7   \nYears of experience in Germany                                        4   \nSeniority level                                                  Senior   \nYour main technology / programming language                        Ruby   \nOther technologies/programming languages you us...                  NaN   \nYearly brutto salary (without bonus and stocks)...              80000.0   \nYearly bonus + stocks in EUR                                        NaN   \nAnnual brutto salary (without bonus and stocks)...              82000.0   \nAnnual bonus+stocks one year ago. Only answer i...                 5000   \nNumber of vacation days                                              28   \nEmployment status                                    Full-time employee   \nСontract duration                                    Unlimited contract   \nMain language at work                                           English   \nCompany size                                                   101-1000   \nCompany type                                                    Product   \nHave you lost your job due to the coronavirus o...                   No   \nHave you been forced to have a shorter working ...                  NaN   \nHave you received additional monetary support f...                  NaN   \n\n                                                                                  2  \\\nTimestamp                                                       2020-11-24 11:14:21   \nAge                                                                            29.0   \nGender                                                                         Male   \nCity                                                                         Berlin   \nPosition                                                          Software Engineer   \nTotal years of experience                                                        12   \nYears of experience in Germany                                                    6   \nSeniority level                                                                Lead   \nYour main technology / programming language                 Javascript / Typescript   \nOther technologies/programming languages you us...  Javascript / Typescript, Docker   \nYearly brutto salary (without bonus and stocks)...                         120000.0   \nYearly bonus + stocks in EUR                                                 120000   \nAnnual brutto salary (without bonus and stocks)...                         100000.0   \nAnnual bonus+stocks one year ago. Only answer i...                           100000   \nNumber of vacation days                                                          30   \nEmployment status                                        Self-employed (freelancer)   \nСontract duration                                                Temporary contract   \nMain language at work                                                       English   \nCompany size                                                               101-1000   \nCompany type                                                                Product   \nHave you lost your job due to the coronavirus o...                              Yes   \nHave you been forced to have a shorter working ...                              NaN   \nHave you received additional monetary support f...                              NaN   \n\n                                                                      3  \\\nTimestamp                                           2020-11-24 11:15:24   \nAge                                                                28.0   \nGender                                                             Male   \nCity                                                             Berlin   \nPosition                                             Frontend Developer   \nTotal years of experience                                             4   \nYears of experience in Germany                                        1   \nSeniority level                                                  Junior   \nYour main technology / programming language                  Javascript   \nOther technologies/programming languages you us...                  NaN   \nYearly brutto salary (without bonus and stocks)...              54000.0   \nYearly bonus + stocks in EUR                                        NaN   \nAnnual brutto salary (without bonus and stocks)...                  NaN   \nAnnual bonus+stocks one year ago. Only answer i...                  NaN   \nNumber of vacation days                                              24   \nEmployment status                                    Full-time employee   \nСontract duration                                    Unlimited contract   \nMain language at work                                           English   \nCompany size                                                     51-100   \nCompany type                                                    Startup   \nHave you lost your job due to the coronavirus o...                   No   \nHave you been forced to have a shorter working ...                  NaN   \nHave you received additional monetary support f...                  NaN   \n\n                                                                         4  \nTimestamp                                              2020-11-24 11:15:46  \nAge                                                                   37.0  \nGender                                                                Male  \nCity                                                                Berlin  \nPosition                                                 Backend Developer  \nTotal years of experience                                               17  \nYears of experience in Germany                                           6  \nSeniority level                                                     Senior  \nYour main technology / programming language                        C# .NET  \nOther technologies/programming languages you us...  .NET, SQL, AWS, Docker  \nYearly brutto salary (without bonus and stocks)...                 62000.0  \nYearly bonus + stocks in EUR                                           NaN  \nAnnual brutto salary (without bonus and stocks)...                 62000.0  \nAnnual bonus+stocks one year ago. Only answer i...                     NaN  \nNumber of vacation days                                                 29  \nEmployment status                                       Full-time employee  \nСontract duration                                       Unlimited contract  \nMain language at work                                              English  \nCompany size                                                      101-1000  \nCompany type                                                       Product  \nHave you lost your job due to the coronavirus o...                      No  \nHave you been forced to have a shorter working ...                     NaN  \nHave you received additional monetary support f...                     NaN  "
     },
     "execution_count": 26,
     "metadata": {},
     "output_type": "execute_result"
    }
   ],
   "source": [
    "salaryData.head().T"
   ]
  },
  {
   "cell_type": "code",
   "execution_count": 27,
   "metadata": {},
   "outputs": [
    {
     "data": {
      "text/html": "<div>\n<style scoped>\n    .dataframe tbody tr th:only-of-type {\n        vertical-align: middle;\n    }\n\n    .dataframe tbody tr th {\n        vertical-align: top;\n    }\n\n    .dataframe thead th {\n        text-align: right;\n    }\n</style>\n<table border=\"1\" class=\"dataframe\">\n  <thead>\n    <tr style=\"text-align: right;\">\n      <th></th>\n      <th>count</th>\n      <th>mean</th>\n      <th>std</th>\n      <th>min</th>\n      <th>25%</th>\n      <th>50%</th>\n      <th>75%</th>\n      <th>max</th>\n    </tr>\n  </thead>\n  <tbody>\n    <tr>\n      <th>Age</th>\n      <td>1226.0</td>\n      <td>3.250979e+01</td>\n      <td>5.663804e+00</td>\n      <td>20.0</td>\n      <td>29.0</td>\n      <td>32.0</td>\n      <td>35.0</td>\n      <td>6.900000e+01</td>\n    </tr>\n    <tr>\n      <th>Yearly brutto salary (without bonus and stocks) in EUR</th>\n      <td>1253.0</td>\n      <td>8.027904e+07</td>\n      <td>2.825061e+09</td>\n      <td>10001.0</td>\n      <td>58800.0</td>\n      <td>70000.0</td>\n      <td>80000.0</td>\n      <td>1.000000e+11</td>\n    </tr>\n    <tr>\n      <th>Annual brutto salary (without bonus and stocks) one year ago. Only answer if staying in the same country</th>\n      <td>885.0</td>\n      <td>6.322459e+05</td>\n      <td>1.680508e+07</td>\n      <td>11000.0</td>\n      <td>55000.0</td>\n      <td>65000.0</td>\n      <td>75000.0</td>\n      <td>5.000000e+08</td>\n    </tr>\n    <tr>\n      <th>Have you been forced to have a shorter working week (Kurzarbeit)? If yes, how many hours per week</th>\n      <td>373.0</td>\n      <td>1.296783e+01</td>\n      <td>1.527517e+01</td>\n      <td>0.0</td>\n      <td>0.0</td>\n      <td>0.0</td>\n      <td>30.0</td>\n      <td>4.000000e+01</td>\n    </tr>\n  </tbody>\n</table>\n</div>",
      "text/plain": "                                                     count          mean  \\\nAge                                                 1226.0  3.250979e+01   \nYearly brutto salary (without bonus and stocks)...  1253.0  8.027904e+07   \nAnnual brutto salary (without bonus and stocks)...   885.0  6.322459e+05   \nHave you been forced to have a shorter working ...   373.0  1.296783e+01   \n\n                                                             std      min  \\\nAge                                                 5.663804e+00     20.0   \nYearly brutto salary (without bonus and stocks)...  2.825061e+09  10001.0   \nAnnual brutto salary (without bonus and stocks)...  1.680508e+07  11000.0   \nHave you been forced to have a shorter working ...  1.527517e+01      0.0   \n\n                                                        25%      50%      75%  \\\nAge                                                    29.0     32.0     35.0   \nYearly brutto salary (without bonus and stocks)...  58800.0  70000.0  80000.0   \nAnnual brutto salary (without bonus and stocks)...  55000.0  65000.0  75000.0   \nHave you been forced to have a shorter working ...      0.0      0.0     30.0   \n\n                                                             max  \nAge                                                 6.900000e+01  \nYearly brutto salary (without bonus and stocks)...  1.000000e+11  \nAnnual brutto salary (without bonus and stocks)...  5.000000e+08  \nHave you been forced to have a shorter working ...  4.000000e+01  "
     },
     "execution_count": 27,
     "metadata": {},
     "output_type": "execute_result"
    }
   ],
   "source": [
    "salaryData.describe().T"
   ]
  },
  {
   "cell_type": "code",
   "execution_count": 28,
   "metadata": {},
   "outputs": [
    {
     "data": {
      "text/plain": "Timestamp                                                                                                                  0.000000\nAge                                                                                                                        0.021548\nGender                                                                                                                     0.007981\nCity                                                                                                                       0.000000\nPosition                                                                                                                   0.004789\nTotal years of experience                                                                                                  0.012769\nYears of experience in Germany                                                                                             0.025539\nSeniority level                                                                                                            0.009577\nYour main technology / programming language                                                                                0.101357\nOther technologies/programming languages you use often                                                                     0.125299\nYearly brutto salary (without bonus and stocks) in EUR                                                                     0.000000\nYearly bonus + stocks in EUR                                                                                               0.338388\nAnnual brutto salary (without bonus and stocks) one year ago. Only answer if staying in the same country                   0.293695\nAnnual bonus+stocks one year ago. Only answer if staying in same country                                                   0.509976\nNumber of vacation days                                                                                                    0.054270\nEmployment status                                                                                                          0.013567\nСontract duration                                                                                                          0.023144\nMain language at work                                                                                                      0.012769\nCompany size                                                                                                               0.014366\nCompany type                                                                                                               0.019952\nHave you lost your job due to the coronavirus outbreak?                                                                    0.015962\nHave you been forced to have a shorter working week (Kurzarbeit)? If yes, how many hours per week                          0.702314\nHave you received additional monetary support from your employer due to Work From Home? If yes, how much in 2020 in EUR    0.631285\ndtype: float64"
     },
     "execution_count": 28,
     "metadata": {},
     "output_type": "execute_result"
    }
   ],
   "source": [
    "salaryData.isnull().sum()/len(salaryData)"
   ]
  },
  {
   "cell_type": "code",
   "execution_count": 29,
   "metadata": {},
   "outputs": [],
   "source": [
    "def add_datepart(df, fldnames, drop=True, time=False, errors=\"raise\"):\t\n",
    "    \"\"\"add_datepart converts a column of df from a datetime64 to many columns containing\n",
    "    the information from the date. This applies changes inplace.\n",
    "    Parameters:\n",
    "    -----------\n",
    "    df: A pandas data frame. df gain several new columns.\n",
    "    fldname: A string or list of strings that is the name of the date column you wish to expand.\n",
    "        If it is not a datetime64 series, it will be converted to one with pd.to_datetime.\n",
    "    drop: If true then the original date column will be removed.\n",
    "    time: If true time features: Hour, Minute, Second will be added.\n",
    "    \"\"\"\n",
    "    if isinstance(fldnames,str): \n",
    "        fldnames = [fldnames]\n",
    "    for fldname in fldnames:\n",
    "        fld = df[fldname]\n",
    "        fld_dtype = fld.dtype\n",
    "        if isinstance(fld_dtype, pd.core.dtypes.dtypes.DatetimeTZDtype):\n",
    "            fld_dtype = np.datetime64\n",
    "\n",
    "        if not np.issubdtype(fld_dtype, np.datetime64):\n",
    "            df[fldname] = fld = pd.to_datetime(fld, infer_datetime_format=True, errors=errors)\n",
    "        targ_pre = re.sub('[Dd]ate$', '', fldname)\n",
    "        attr = ['Year', 'Month', 'Week', 'Day', 'Dayofweek', 'Dayofyear',\n",
    "                'Is_month_end', 'Is_month_start', 'Is_quarter_end', 'Is_quarter_start', 'Is_year_end', 'Is_year_start']\n",
    "        if time: \n",
    "            attr = attr + ['Hour', 'Minute', 'Second']\n",
    "        for n in attr:\n",
    "          if n == 'Week':\n",
    "            df[targ_pre + n] = getattr(fld.dt.isocalendar(), n.lower())\n",
    "          else:\n",
    "            df[targ_pre + n] = getattr(fld.dt, n.lower())\n",
    "        df[targ_pre + 'Elapsed'] = fld.astype(np.int64) // 10 ** 9\n",
    "        if drop: \n",
    "            df.drop(fldname, axis=1, inplace=True)\n"
   ]
  },
  {
   "cell_type": "code",
   "execution_count": 30,
   "metadata": {},
   "outputs": [],
   "source": [
    "def train_cats(df):\n",
    "    \"\"\"Change any columns of strings in a panda's dataframe to a column of\n",
    "    categorical values. This applies the changes inplace.\n",
    "    \"\"\"\n",
    "    for n,c in df.items():\n",
    "        if is_string_dtype(c): df[n] = c.astype('category').cat.as_ordered()"
   ]
  },
  {
   "cell_type": "code",
   "execution_count": 31,
   "metadata": {},
   "outputs": [],
   "source": [
    "def apply_cats(df, trn):\n",
    "    \"\"\"Changes any columns of strings in df into categorical variables using trn as\n",
    "    a template for the category codes.\n",
    "    \"\"\"\n",
    "    for n,c in df.items():\n",
    "        if (n in trn.columns) and (trn[n].dtype.name=='category'):\n",
    "            df[n] = c.astype('category').cat.as_ordered()\n",
    "            df[n].cat.set_categories(trn[n].cat.categories, ordered=True, inplace=True)"
   ]
  },
  {
   "cell_type": "code",
   "execution_count": 32,
   "metadata": {},
   "outputs": [],
   "source": [
    "def fix_missing(df, col, name, na_dict):\n",
    "    \"\"\" Fill missing data in a column of df with the median, and add a {name}_na column\n",
    "    which specifies if the data was missing.\n",
    "    \"\"\"\n",
    "    if is_numeric_dtype(col):\n",
    "        if pd.isnull(col).sum() or (name in na_dict):\n",
    "            df[name+'_na'] = pd.isnull(col)\n",
    "            filler = na_dict[name] if name in na_dict else col.median()\n",
    "            df[name] = col.fillna(filler)\n",
    "            na_dict[name] = filler\n",
    "    elif is_categorical_dtype(col):\n",
    "        if pd.isnull(col).sum() or (name in na_dict):\n",
    "            df[name+'_na'] = pd.isnull(col)\n",
    "            filler = na_dict[name] if name in na_dict else col.mode()\n",
    "            df[name] = col.fillna(filler)\n",
    "            na_dict[name] = filler\n",
    "    return na_dict"
   ]
  },
  {
   "cell_type": "code",
   "execution_count": 33,
   "metadata": {},
   "outputs": [],
   "source": [
    "def numericalize(df, col, name, max_n_cat):\n",
    "    \"\"\" Changes the column col from a categorical type to it's integer codes.\n",
    "    \"\"\"\n",
    "    if not is_numeric_dtype(col) and ( max_n_cat is None or len(col.cat.categories)>max_n_cat):\n",
    "        df[name] = pd.Categorical(col).codes+1\n"
   ]
  },
  {
   "cell_type": "code",
   "execution_count": 34,
   "metadata": {},
   "outputs": [],
   "source": [
    "def scale_vars(df, mapper):\n",
    "    warnings.filterwarnings('ignore', category=sklearn.exceptions.DataConversionWarning)\n",
    "    if mapper is None:\n",
    "        map_f = [([n],StandardScaler()) for n in df.columns if is_numeric_dtype(df[n])]\n",
    "        mapper = DataFrameMapper(map_f).fit(df)\n",
    "    df[mapper.transformed_names_] = mapper.transform(df)\n",
    "    return mapper"
   ]
  },
  {
   "cell_type": "code",
   "execution_count": 35,
   "metadata": {},
   "outputs": [],
   "source": [
    "def get_sample(df,n):\n",
    "    \"\"\" Gets a random sample of n rows from df, without replacement.\n",
    "    Parameters:\n",
    "    -----------\n",
    "    df: A pandas data frame, that you wish to sample from.\n",
    "    n: The number of rows you wish to sample.\n",
    "    \"\"\"\n",
    "    idxs = sorted(np.random.permutation(len(df))[:n])\n",
    "    return df.iloc[idxs].copy()"
   ]
  },
  {
   "cell_type": "code",
   "execution_count": 36,
   "metadata": {},
   "outputs": [],
   "source": [
    "def proc_df(df, y_fld=None, skip_flds=None, ignore_flds=None, do_scale=False, na_dict=None,\n",
    "            preproc_fn=None, max_n_cat=None, subset=None, mapper=None):\n",
    "    \"\"\" proc_df takes a data frame df and splits off the response variable, and\n",
    "    changes the df into an entirely numeric dataframe. For each column of df \n",
    "    which is not in skip_flds nor in ignore_flds, na values are replaced by the\n",
    "    median value of the column.\n",
    "    Parameters:\n",
    "    -----------\n",
    "    df: The data frame you wish to process.\n",
    "    y_fld: The name of the response variable\n",
    "    skip_flds: A list of fields that dropped from df.\n",
    "    ignore_flds: A list of fields that are ignored during processing.\n",
    "    do_scale: Standardizes each column in df. Takes Boolean Values(True,False)\n",
    "    na_dict: a dictionary of na columns to add. Na columns are also added if there\n",
    "        are any missing values.\n",
    "    preproc_fn: A function that gets applied to df.\n",
    "    max_n_cat: The maximum number of categories to break into dummy values, instead\n",
    "        of integer codes.\n",
    "    subset: Takes a random subset of size subset from df.\n",
    "    mapper: If do_scale is set as True, the mapper variable\n",
    "        calculates the values used for scaling of variables during training time (mean and standard deviation).\n",
    "    Returns:\n",
    "    --------\n",
    "    [x, y, nas, mapper(optional)]:\n",
    "        x: x is the transformed version of df. x will not have the response variable\n",
    "            and is entirely numeric.\n",
    "        y: y is the response variable\n",
    "        nas: returns a dictionary of which nas it created, and the associated median.\n",
    "        mapper: A DataFrameMapper which stores the mean and standard deviation of the corresponding continuous\n",
    "        variables which is then used for scaling of during test-time.\n",
    "    Examples:\n",
    "    ---------\n",
    "    >>> df = pd.DataFrame({'col1' : [1, 2, 3], 'col2' : ['a', 'b', 'a']})\n",
    "    >>> df\n",
    "       col1 col2\n",
    "    0     1    a\n",
    "    1     2    b\n",
    "    2     3    a\n",
    "    note the type of col2 is string\n",
    "    >>> train_cats(df)\n",
    "    >>> df\n",
    "       col1 col2\n",
    "    0     1    a\n",
    "    1     2    b\n",
    "    2     3    a\n",
    "    now the type of col2 is category { a : 1, b : 2}\n",
    "    >>> x, y, nas = proc_df(df, 'col1')\n",
    "    >>> x\n",
    "       col2\n",
    "    0     1\n",
    "    1     2\n",
    "    2     1\n",
    "    >>> data = DataFrame(pet=[\"cat\", \"dog\", \"dog\", \"fish\", \"cat\", \"dog\", \"cat\", \"fish\"],\n",
    "                 children=[4., 6, 3, 3, 2, 3, 5, 4],\n",
    "                 salary=[90, 24, 44, 27, 32, 59, 36, 27])\n",
    "    >>> mapper = DataFrameMapper([(:pet, LabelBinarizer()),\n",
    "                          ([:children], StandardScaler())])\n",
    "    >>>round(fit_transform!(mapper, copy(data)), 2)\n",
    "    8x4 Array{Float64,2}:\n",
    "    1.0  0.0  0.0   0.21\n",
    "    0.0  1.0  0.0   1.88\n",
    "    0.0  1.0  0.0  -0.63\n",
    "    0.0  0.0  1.0  -0.63\n",
    "    1.0  0.0  0.0  -1.46\n",
    "    0.0  1.0  0.0  -0.63\n",
    "    1.0  0.0  0.0   1.04\n",
    "    0.0  0.0  1.0   0.21\n",
    "    \"\"\"\n",
    "    if not ignore_flds: \n",
    "        ignore_flds=[]\n",
    "    if not skip_flds: \n",
    "        skip_flds=[]\n",
    "    if subset: \n",
    "        df = get_sample(df,subset)\n",
    "    else: df = df.copy()\n",
    "    ignored_flds = df.loc[:, ignore_flds]\n",
    "    df.drop(ignore_flds, axis=1, inplace=True)\n",
    "    if preproc_fn: \n",
    "        preproc_fn(df)\n",
    "    if y_fld is None: y = None\n",
    "    else:\n",
    "        if not is_numeric_dtype(df[y_fld]): \n",
    "            df[y_fld] = pd.Categorical(df[y_fld]).codes\n",
    "        y = df[y_fld].values\n",
    "        skip_flds += [y_fld]\n",
    "    df.drop(skip_flds, axis=1, inplace=True)\n",
    "\n",
    "    if na_dict is None: \n",
    "        na_dict = {}\n",
    "    else: \n",
    "        na_dict = na_dict.copy()\n",
    "    na_dict_initial = na_dict.copy()\n",
    "    for n,c in df.items(): \n",
    "        na_dict = fix_missing(df, c, n, na_dict)\n",
    "    if len(na_dict_initial.keys()) > 0:\n",
    "        df.drop([a + '_na' for a in list(set(na_dict.keys()) - set(na_dict_initial.keys()))], axis=1, inplace=True)\n",
    "    if len(na_dict.keys()) > 0:\n",
    "        df.drop([a + '_na' for a in list(set(na_dict.keys()) - set(na_dict_initial.keys()))], axis=1, inplace=True)\n",
    "    if do_scale: \n",
    "        mapper = scale_vars(df, mapper)\n",
    "    for n,c in df.items(): \n",
    "        numericalize(df, c, n, max_n_cat)\n",
    "    df = pd.get_dummies(df, dummy_na=True)\n",
    "    df = pd.concat([ignored_flds, df], axis=1)\n",
    "    res = [df, y, na_dict]\n",
    "    if do_scale: \n",
    "        res = res + [mapper]\n",
    "    return res"
   ]
  },
  {
   "cell_type": "code",
   "execution_count": 37,
   "metadata": {},
   "outputs": [],
   "source": [
    "add_datepart(salaryData, time=True, fldnames=['Timestamp'])"
   ]
  },
  {
   "cell_type": "markdown",
   "metadata": {},
   "source": [
    "**Converting all the string variables into categorical variables**"
   ]
  },
  {
   "cell_type": "code",
   "execution_count": 38,
   "metadata": {},
   "outputs": [],
   "source": [
    "train_cats(salaryData)"
   ]
  },
  {
   "cell_type": "code",
   "execution_count": 39,
   "metadata": {},
   "outputs": [
    {
     "data": {
      "text/plain": "Age                                                                                                                         float64\nGender                                                                                                                     category\nCity                                                                                                                       category\nPosition                                                                                                                   category\nTotal years of experience                                                                                                  category\nYears of experience in Germany                                                                                             category\nSeniority level                                                                                                            category\nYour main technology / programming language                                                                                category\nOther technologies/programming languages you use often                                                                     category\nYearly brutto salary (without bonus and stocks) in EUR                                                                      float64\nYearly bonus + stocks in EUR                                                                                               category\nAnnual brutto salary (without bonus and stocks) one year ago. Only answer if staying in the same country                    float64\nAnnual bonus+stocks one year ago. Only answer if staying in same country                                                   category\nNumber of vacation days                                                                                                    category\nEmployment status                                                                                                          category\nСontract duration                                                                                                          category\nMain language at work                                                                                                      category\nCompany size                                                                                                               category\nCompany type                                                                                                               category\nHave you lost your job due to the coronavirus outbreak?                                                                    category\nHave you been forced to have a shorter working week (Kurzarbeit)? If yes, how many hours per week                           float64\nHave you received additional monetary support from your employer due to Work From Home? If yes, how much in 2020 in EUR    category\nTimestampYear                                                                                                                 int64\nTimestampMonth                                                                                                                int64\nTimestampWeek                                                                                                                UInt32\nTimestampDay                                                                                                                  int64\nTimestampDayofweek                                                                                                            int64\nTimestampDayofyear                                                                                                            int64\nTimestampIs_month_end                                                                                                          bool\nTimestampIs_month_start                                                                                                        bool\nTimestampIs_quarter_end                                                                                                        bool\nTimestampIs_quarter_start                                                                                                      bool\nTimestampIs_year_end                                                                                                           bool\nTimestampIs_year_start                                                                                                         bool\nTimestampHour                                                                                                                 int64\nTimestampMinute                                                                                                               int64\nTimestampSecond                                                                                                               int64\nTimestampElapsed                                                                                                              int64\ndtype: object"
     },
     "execution_count": 39,
     "metadata": {},
     "output_type": "execute_result"
    }
   ],
   "source": [
    "salaryData.dtypes"
   ]
  },
  {
   "cell_type": "markdown",
   "metadata": {},
   "source": [
    "**Now, we have converted all the string variable into categorical datatypes and also divided `TimestamP` variable into multiple variables such as `TimestampYear`, `TimestampMonth` and many other columns**"
   ]
  },
  {
   "cell_type": "markdown",
   "metadata": {},
   "source": [
    "**Till now we have dealt with datatypes, now we have to Deal with all the null values in both continuous and categorical variables. I have written a multiple function which helps us to deal with null values**"
   ]
  },
  {
   "cell_type": "code",
   "execution_count": 40,
   "metadata": {},
   "outputs": [],
   "source": [
    "raw_data, _ , _ = proc_df(salaryData)"
   ]
  },
  {
   "cell_type": "markdown",
   "metadata": {},
   "source": [
    "**For all the numerical columns I have replaced null values with median and the categorical null values with mode**"
   ]
  },
  {
   "cell_type": "code",
   "execution_count": 41,
   "metadata": {},
   "outputs": [
    {
     "data": {
      "text/plain": "Age                                                                                                                        0\nGender                                                                                                                     0\nCity                                                                                                                       0\nPosition                                                                                                                   0\nTotal years of experience                                                                                                  0\nYears of experience in Germany                                                                                             0\nSeniority level                                                                                                            0\nYour main technology / programming language                                                                                0\nOther technologies/programming languages you use often                                                                     0\nYearly brutto salary (without bonus and stocks) in EUR                                                                     0\nYearly bonus + stocks in EUR                                                                                               0\nAnnual brutto salary (without bonus and stocks) one year ago. Only answer if staying in the same country                   0\nAnnual bonus+stocks one year ago. Only answer if staying in same country                                                   0\nNumber of vacation days                                                                                                    0\nEmployment status                                                                                                          0\nСontract duration                                                                                                          0\nMain language at work                                                                                                      0\nCompany size                                                                                                               0\nCompany type                                                                                                               0\nHave you lost your job due to the coronavirus outbreak?                                                                    0\nHave you been forced to have a shorter working week (Kurzarbeit)? If yes, how many hours per week                          0\nHave you received additional monetary support from your employer due to Work From Home? If yes, how much in 2020 in EUR    0\nTimestampYear                                                                                                              0\nTimestampMonth                                                                                                             0\nTimestampWeek                                                                                                              0\nTimestampDay                                                                                                               0\nTimestampDayofweek                                                                                                         0\nTimestampDayofyear                                                                                                         0\nTimestampIs_month_end                                                                                                      0\nTimestampIs_month_start                                                                                                    0\nTimestampIs_quarter_end                                                                                                    0\nTimestampIs_quarter_start                                                                                                  0\nTimestampIs_year_end                                                                                                       0\nTimestampIs_year_start                                                                                                     0\nTimestampHour                                                                                                              0\nTimestampMinute                                                                                                            0\nTimestampSecond                                                                                                            0\nTimestampElapsed                                                                                                           0\ndtype: int64"
     },
     "execution_count": 41,
     "metadata": {},
     "output_type": "execute_result"
    }
   ],
   "source": [
    "raw_data.isnull().sum()"
   ]
  },
  {
   "cell_type": "code",
   "execution_count": 42,
   "metadata": {},
   "outputs": [
    {
     "data": {
      "text/html": "<div>\n<style scoped>\n    .dataframe tbody tr th:only-of-type {\n        vertical-align: middle;\n    }\n\n    .dataframe tbody tr th {\n        vertical-align: top;\n    }\n\n    .dataframe thead th {\n        text-align: right;\n    }\n</style>\n<table border=\"1\" class=\"dataframe\">\n  <thead>\n    <tr style=\"text-align: right;\">\n      <th></th>\n      <th>Age</th>\n      <th>Gender</th>\n      <th>City</th>\n      <th>Position</th>\n      <th>Total years of experience</th>\n      <th>Years of experience in Germany</th>\n      <th>Seniority level</th>\n      <th>Your main technology / programming language</th>\n      <th>Other technologies/programming languages you use often</th>\n      <th>Yearly brutto salary (without bonus and stocks) in EUR</th>\n      <th>...</th>\n      <th>TimestampIs_month_end</th>\n      <th>TimestampIs_month_start</th>\n      <th>TimestampIs_quarter_end</th>\n      <th>TimestampIs_quarter_start</th>\n      <th>TimestampIs_year_end</th>\n      <th>TimestampIs_year_start</th>\n      <th>TimestampHour</th>\n      <th>TimestampMinute</th>\n      <th>TimestampSecond</th>\n      <th>TimestampElapsed</th>\n    </tr>\n  </thead>\n  <tbody>\n    <tr>\n      <th>0</th>\n      <td>26.0</td>\n      <td>3</td>\n      <td>79</td>\n      <td>114</td>\n      <td>39</td>\n      <td>33</td>\n      <td>17</td>\n      <td>207</td>\n      <td>201</td>\n      <td>80000.0</td>\n      <td>...</td>\n      <td>False</td>\n      <td>False</td>\n      <td>False</td>\n      <td>False</td>\n      <td>False</td>\n      <td>False</td>\n      <td>11</td>\n      <td>14</td>\n      <td>15</td>\n      <td>1606216455</td>\n    </tr>\n    <tr>\n      <th>1</th>\n      <td>26.0</td>\n      <td>3</td>\n      <td>6</td>\n      <td>14</td>\n      <td>44</td>\n      <td>39</td>\n      <td>17</td>\n      <td>173</td>\n      <td>0</td>\n      <td>80000.0</td>\n      <td>...</td>\n      <td>False</td>\n      <td>False</td>\n      <td>False</td>\n      <td>False</td>\n      <td>False</td>\n      <td>False</td>\n      <td>11</td>\n      <td>14</td>\n      <td>16</td>\n      <td>1606216456</td>\n    </tr>\n    <tr>\n      <th>2</th>\n      <td>29.0</td>\n      <td>3</td>\n      <td>6</td>\n      <td>114</td>\n      <td>9</td>\n      <td>45</td>\n      <td>10</td>\n      <td>102</td>\n      <td>124</td>\n      <td>120000.0</td>\n      <td>...</td>\n      <td>False</td>\n      <td>False</td>\n      <td>False</td>\n      <td>False</td>\n      <td>False</td>\n      <td>False</td>\n      <td>11</td>\n      <td>14</td>\n      <td>21</td>\n      <td>1606216461</td>\n    </tr>\n    <tr>\n      <th>3</th>\n      <td>28.0</td>\n      <td>3</td>\n      <td>6</td>\n      <td>53</td>\n      <td>36</td>\n      <td>12</td>\n      <td>8</td>\n      <td>100</td>\n      <td>0</td>\n      <td>54000.0</td>\n      <td>...</td>\n      <td>False</td>\n      <td>False</td>\n      <td>False</td>\n      <td>False</td>\n      <td>False</td>\n      <td>False</td>\n      <td>11</td>\n      <td>15</td>\n      <td>24</td>\n      <td>1606216524</td>\n    </tr>\n    <tr>\n      <th>4</th>\n      <td>37.0</td>\n      <td>3</td>\n      <td>6</td>\n      <td>14</td>\n      <td>15</td>\n      <td>45</td>\n      <td>17</td>\n      <td>32</td>\n      <td>6</td>\n      <td>62000.0</td>\n      <td>...</td>\n      <td>False</td>\n      <td>False</td>\n      <td>False</td>\n      <td>False</td>\n      <td>False</td>\n      <td>False</td>\n      <td>11</td>\n      <td>15</td>\n      <td>46</td>\n      <td>1606216546</td>\n    </tr>\n    <tr>\n      <th>...</th>\n      <td>...</td>\n      <td>...</td>\n      <td>...</td>\n      <td>...</td>\n      <td>...</td>\n      <td>...</td>\n      <td>...</td>\n      <td>...</td>\n      <td>...</td>\n      <td>...</td>\n      <td>...</td>\n      <td>...</td>\n      <td>...</td>\n      <td>...</td>\n      <td>...</td>\n      <td>...</td>\n      <td>...</td>\n      <td>...</td>\n      <td>...</td>\n      <td>...</td>\n      <td>...</td>\n    </tr>\n    <tr>\n      <th>1248</th>\n      <td>31.0</td>\n      <td>3</td>\n      <td>6</td>\n      <td>14</td>\n      <td>47</td>\n      <td>44</td>\n      <td>17</td>\n      <td>75</td>\n      <td>380</td>\n      <td>70000.0</td>\n      <td>...</td>\n      <td>False</td>\n      <td>False</td>\n      <td>False</td>\n      <td>False</td>\n      <td>False</td>\n      <td>False</td>\n      <td>15</td>\n      <td>5</td>\n      <td>50</td>\n      <td>1610982350</td>\n    </tr>\n    <tr>\n      <th>1249</th>\n      <td>33.0</td>\n      <td>3</td>\n      <td>6</td>\n      <td>95</td>\n      <td>7</td>\n      <td>15</td>\n      <td>17</td>\n      <td>225</td>\n      <td>0</td>\n      <td>60000.0</td>\n      <td>...</td>\n      <td>False</td>\n      <td>False</td>\n      <td>False</td>\n      <td>False</td>\n      <td>False</td>\n      <td>False</td>\n      <td>17</td>\n      <td>46</td>\n      <td>2</td>\n      <td>1610991962</td>\n    </tr>\n    <tr>\n      <th>1250</th>\n      <td>39.0</td>\n      <td>3</td>\n      <td>79</td>\n      <td>65</td>\n      <td>12</td>\n      <td>26</td>\n      <td>10</td>\n      <td>136</td>\n      <td>313</td>\n      <td>110000.0</td>\n      <td>...</td>\n      <td>False</td>\n      <td>False</td>\n      <td>False</td>\n      <td>False</td>\n      <td>False</td>\n      <td>False</td>\n      <td>23</td>\n      <td>20</td>\n      <td>35</td>\n      <td>1611012035</td>\n    </tr>\n    <tr>\n      <th>1251</th>\n      <td>26.0</td>\n      <td>3</td>\n      <td>94</td>\n      <td>53</td>\n      <td>44</td>\n      <td>47</td>\n      <td>12</td>\n      <td>92</td>\n      <td>125</td>\n      <td>38350.0</td>\n      <td>...</td>\n      <td>False</td>\n      <td>False</td>\n      <td>False</td>\n      <td>False</td>\n      <td>False</td>\n      <td>False</td>\n      <td>10</td>\n      <td>17</td>\n      <td>58</td>\n      <td>1611051478</td>\n    </tr>\n    <tr>\n      <th>1252</th>\n      <td>26.0</td>\n      <td>3</td>\n      <td>6</td>\n      <td>43</td>\n      <td>18</td>\n      <td>26</td>\n      <td>12</td>\n      <td>254</td>\n      <td>289</td>\n      <td>65000.0</td>\n      <td>...</td>\n      <td>False</td>\n      <td>False</td>\n      <td>False</td>\n      <td>False</td>\n      <td>False</td>\n      <td>False</td>\n      <td>12</td>\n      <td>1</td>\n      <td>11</td>\n      <td>1611057671</td>\n    </tr>\n  </tbody>\n</table>\n<p>1253 rows × 38 columns</p>\n</div>",
      "text/plain": "       Age  Gender  City  Position   Total years of experience  \\\n0     26.0       3    79        114                         39   \n1     26.0       3     6         14                         44   \n2     29.0       3     6        114                          9   \n3     28.0       3     6         53                         36   \n4     37.0       3     6         14                         15   \n...    ...     ...   ...        ...                        ...   \n1248  31.0       3     6         14                         47   \n1249  33.0       3     6         95                          7   \n1250  39.0       3    79         65                         12   \n1251  26.0       3    94         53                         44   \n1252  26.0       3     6         43                         18   \n\n      Years of experience in Germany  Seniority level  \\\n0                                 33               17   \n1                                 39               17   \n2                                 45               10   \n3                                 12                8   \n4                                 45               17   \n...                              ...              ...   \n1248                              44               17   \n1249                              15               17   \n1250                              26               10   \n1251                              47               12   \n1252                              26               12   \n\n      Your main technology / programming language  \\\n0                                             207   \n1                                             173   \n2                                             102   \n3                                             100   \n4                                              32   \n...                                           ...   \n1248                                           75   \n1249                                          225   \n1250                                          136   \n1251                                           92   \n1252                                          254   \n\n      Other technologies/programming languages you use often  \\\n0                                                   201        \n1                                                     0        \n2                                                   124        \n3                                                     0        \n4                                                     6        \n...                                                 ...        \n1248                                                380        \n1249                                                  0        \n1250                                                313        \n1251                                                125        \n1252                                                289        \n\n      Yearly brutto salary (without bonus and stocks) in EUR  ...  \\\n0                                               80000.0       ...   \n1                                               80000.0       ...   \n2                                              120000.0       ...   \n3                                               54000.0       ...   \n4                                               62000.0       ...   \n...                                                 ...       ...   \n1248                                            70000.0       ...   \n1249                                            60000.0       ...   \n1250                                           110000.0       ...   \n1251                                            38350.0       ...   \n1252                                            65000.0       ...   \n\n      TimestampIs_month_end  TimestampIs_month_start  TimestampIs_quarter_end  \\\n0                     False                    False                    False   \n1                     False                    False                    False   \n2                     False                    False                    False   \n3                     False                    False                    False   \n4                     False                    False                    False   \n...                     ...                      ...                      ...   \n1248                  False                    False                    False   \n1249                  False                    False                    False   \n1250                  False                    False                    False   \n1251                  False                    False                    False   \n1252                  False                    False                    False   \n\n      TimestampIs_quarter_start  TimestampIs_year_end  TimestampIs_year_start  \\\n0                         False                 False                   False   \n1                         False                 False                   False   \n2                         False                 False                   False   \n3                         False                 False                   False   \n4                         False                 False                   False   \n...                         ...                   ...                     ...   \n1248                      False                 False                   False   \n1249                      False                 False                   False   \n1250                      False                 False                   False   \n1251                      False                 False                   False   \n1252                      False                 False                   False   \n\n      TimestampHour  TimestampMinute  TimestampSecond  TimestampElapsed  \n0                11               14               15        1606216455  \n1                11               14               16        1606216456  \n2                11               14               21        1606216461  \n3                11               15               24        1606216524  \n4                11               15               46        1606216546  \n...             ...              ...              ...               ...  \n1248             15                5               50        1610982350  \n1249             17               46                2        1610991962  \n1250             23               20               35        1611012035  \n1251             10               17               58        1611051478  \n1252             12                1               11        1611057671  \n\n[1253 rows x 38 columns]"
     },
     "execution_count": 42,
     "metadata": {},
     "output_type": "execute_result"
    }
   ],
   "source": [
    "raw_data"
   ]
  },
  {
   "cell_type": "markdown",
   "metadata": {},
   "source": [
    "## Processing on Numerical Variables"
   ]
  },
  {
   "cell_type": "markdown",
   "metadata": {},
   "source": [
    "### Age Variable"
   ]
  },
  {
   "cell_type": "code",
   "execution_count": 55,
   "metadata": {},
   "outputs": [
    {
     "data": {
      "text/plain": "1.2552599365004833"
     },
     "execution_count": 55,
     "metadata": {},
     "output_type": "execute_result"
    }
   ],
   "source": [
    "raw_data['Age'].skew()"
   ]
  },
  {
   "cell_type": "markdown",
   "metadata": {},
   "source": [
    "**Above it shows that the variable it postively skewed and we could also see by plotting histogram**"
   ]
  },
  {
   "cell_type": "code",
   "execution_count": 53,
   "metadata": {},
   "outputs": [
    {
     "data": {
      "image/png": "[encoded data removed]",
      "text/plain": "<Figure size 432x288 with 1 Axes>"
     },
     "metadata": {
      "needs_background": "light"
     },
     "output_type": "display_data"
    }
   ],
   "source": [
    "plt.hist(raw_data.Age, range=(min(raw_data.Age), max(raw_data.Age)),bins=100)\n",
    "plt.show()"
   ]
  },
  {
   "cell_type": "markdown",
   "metadata": {},
   "source": [
    "**From the histogram we could see that the age variable is little skewed i.e. positively skewed.\n",
    "For more accurate we could get the skewness of the variable we could also see some outliers are also their**"
   ]
  },
  {
   "cell_type": "code",
   "execution_count": 56,
   "metadata": {},
   "outputs": [
    {
     "data": {
      "text/plain": "{'whiskers': [<matplotlib.lines.Line2D at 0x7f09b4ab1d10>,\n  <matplotlib.lines.Line2D at 0x7f09b4ab4390>],\n 'caps': [<matplotlib.lines.Line2D at 0x7f09b4ab4950>,\n  <matplotlib.lines.Line2D at 0x7f09b4ab6090>],\n 'boxes': [<matplotlib.lines.Line2D at 0x7f09b4ab1690>],\n 'medians': [<matplotlib.lines.Line2D at 0x7f09b4ab6750>],\n 'fliers': [<matplotlib.lines.Line2D at 0x7f09b4ab6d10>],\n 'means': []}"
     },
     "execution_count": 56,
     "metadata": {},
     "output_type": "execute_result"
    },
    {
     "data": {
      "image/png": "[encoded data removed]",
      "text/plain": "<Figure size 432x288 with 1 Axes>"
     },
     "metadata": {
      "needs_background": "light"
     },
     "output_type": "display_data"
    }
   ],
   "source": [
    "plt.boxplot(raw_data.Age)"
   ]
  },
  {
   "cell_type": "code",
   "execution_count": null,
   "metadata": {},
   "outputs": [],
   "source": []
  }
 ],
 "metadata": {
  "kernelspec": {
   "display_name": "Python 3.7.10 64-bit",
   "name": "python3710jvsc74a57bd0fd69f43f58546b570e94fd7eba7b65e6bcc7a5bbc4eab0408017d18902915d69"
  },
  "language_info": {
   "codemirror_mode": {
    "name": "ipython",
    "version": 3
   },
   "file_extension": ".py",
   "mimetype": "text/x-python",
   "name": "python",
   "nbconvert_exporter": "python",
   "pygments_lexer": "ipython3",
   "version": "3.7.10"
  },
  "metadata": {
   "interpreter": {
    "hash": "fd69f43f58546b570e94fd7eba7b65e6bcc7a5bbc4eab0408017d18902915d69"
   }
  },
  "orig_nbformat": 2
 },
 "nbformat": 4,
 "nbformat_minor": 2
}